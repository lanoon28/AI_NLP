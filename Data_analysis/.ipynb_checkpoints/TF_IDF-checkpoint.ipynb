{
 "cells": [
  {
   "cell_type": "markdown",
   "id": "e75dcc78",
   "metadata": {},
   "source": [
    "# TF-IDF"
   ]
  },
  {
   "cell_type": "markdown",
   "id": "d29b0265",
   "metadata": {},
   "source": [
    "## 1. countVectorizer"
   ]
  },
  {
   "cell_type": "markdown",
   "id": "6690b52f",
   "metadata": {},
   "source": [
    "문서 => 벡터 공간으로의 표현(IDF 적용전의 TF 값)"
   ]
  },
  {
   "cell_type": "markdown",
   "id": "dfa5d816",
   "metadata": {},
   "source": [
    "## 2. TF-IDF Vectorizer"
   ]
  },
  {
   "cell_type": "markdown",
   "id": "33b5cb27",
   "metadata": {},
   "source": [
    "어떤 특정 단어가 문서나 말뭉치에서 어떤 중요도를 가지는지를 나타내는 지표"
   ]
  },
  {
   "cell_type": "markdown",
   "id": "2a7cf372",
   "metadata": {},
   "source": [
    "많은 문서에 공통적으로 들어있는 단어의 경우 문서 구별 능력이 떨어진다고 보아 가중치를 축소 하는 방법"
   ]
  },
  {
   "cell_type": "markdown",
   "id": "4655dcf3",
   "metadata": {},
   "source": [
    "## 3. Cosine. Similarity"
   ]
  },
  {
   "cell_type": "markdown",
   "id": "ab83a6b8",
   "metadata": {},
   "source": [
    "두 벡터(단어 빈도) 사이 각도의 코사인 값을 이용하여 측정하는 값으로, 두 벡터 의 유사한 정도를 의미"
   ]
  },
  {
   "cell_type": "code",
   "execution_count": 5,
   "id": "a5baa15f",
   "metadata": {},
   "outputs": [
    {
     "ename": "ModuleNotFoundError",
     "evalue": "No module named 'sklearn'",
     "output_type": "error",
     "traceback": [
      "\u001b[0;31m---------------------------------------------------------------------------\u001b[0m",
      "\u001b[0;31mModuleNotFoundError\u001b[0m                       Traceback (most recent call last)",
      "Cell \u001b[0;32mIn[5], line 1\u001b[0m\n\u001b[0;32m----> 1\u001b[0m \u001b[38;5;28;01mfrom\u001b[39;00m \u001b[38;5;21;01msklearn\u001b[39;00m \u001b[38;5;28;01mimport\u001b[39;00m datasets\n",
      "\u001b[0;31mModuleNotFoundError\u001b[0m: No module named 'sklearn'"
     ]
    }
   ],
   "source": [
    "from sklearn"
   ]
  },
  {
   "cell_type": "code",
   "execution_count": null,
   "id": "458c38fe",
   "metadata": {},
   "outputs": [],
   "source": []
  }
 ],
 "metadata": {
  "kernelspec": {
   "display_name": "Python 3 (ipykernel)",
   "language": "python",
   "name": "python3"
  },
  "language_info": {
   "codemirror_mode": {
    "name": "ipython",
    "version": 3
   },
   "file_extension": ".py",
   "mimetype": "text/x-python",
   "name": "python",
   "nbconvert_exporter": "python",
   "pygments_lexer": "ipython3",
   "version": "3.8.17"
  }
 },
 "nbformat": 4,
 "nbformat_minor": 5
}
