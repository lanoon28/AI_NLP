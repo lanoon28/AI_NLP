{
 "cells": [
  {
   "cell_type": "code",
   "execution_count": 1,
   "id": "46fdcf14",
   "metadata": {},
   "outputs": [],
   "source": [
    "import sqlite3\n",
    "import pandas as pd"
   ]
  },
  {
   "cell_type": "code",
   "execution_count": 2,
   "id": "cd872602",
   "metadata": {},
   "outputs": [
    {
     "name": "stdout",
     "output_type": "stream",
     "text": [
      "3.41.2\n",
      "2.6.0\n"
     ]
    }
   ],
   "source": [
    "print(sqlite3.sqlite_version)\n",
    "print(sqlite3.version)"
   ]
  },
  {
   "cell_type": "code",
   "execution_count": 3,
   "id": "4d50e0ef",
   "metadata": {},
   "outputs": [],
   "source": [
    "dpath = 'maindb.db'\n",
    "conn = sqlite3.connect(dpath)"
   ]
  },
  {
   "cell_type": "code",
   "execution_count": 4,
   "id": "5671cc33",
   "metadata": {},
   "outputs": [],
   "source": [
    "cur = conn.cursor()"
   ]
  },
  {
   "cell_type": "code",
   "execution_count": 8,
   "id": "a45d2d5e",
   "metadata": {},
   "outputs": [
    {
     "ename": "OperationalError",
     "evalue": "table employees already exists",
     "output_type": "error",
     "traceback": [
      "\u001b[0;31m---------------------------------------------------------------------------\u001b[0m",
      "\u001b[0;31mOperationalError\u001b[0m                          Traceback (most recent call last)",
      "Cell \u001b[0;32mIn[8], line 1\u001b[0m\n\u001b[0;32m----> 1\u001b[0m \u001b[43mcur\u001b[49m\u001b[38;5;241;43m.\u001b[39;49m\u001b[43mexecute\u001b[49m\u001b[43m(\u001b[49m\u001b[38;5;124;43m\"\u001b[39;49m\u001b[38;5;124;43mCREATE TABLE employees(id INTEGER PRIMARY KEY, name TEXT NOT NULL, salary REAL, department TEXT, position TEXT, hireDate TEXT)\u001b[39;49m\u001b[38;5;124;43m\"\u001b[39;49m\u001b[43m)\u001b[49m\n\u001b[1;32m      2\u001b[0m conn\u001b[38;5;241m.\u001b[39mcommit()\n",
      "\u001b[0;31mOperationalError\u001b[0m: table employees already exists"
     ]
    }
   ],
   "source": [
    "cur.execute(\"CREATE TABLE employees(id INTEGER PRIMARY KEY, name TEXT NOT NULL, salary REAL, department TEXT, position TEXT, hireDate TEXT)\")\n",
    "conn.commit()"
   ]
  },
  {
   "cell_type": "code",
   "execution_count": 9,
   "id": "7777d5a0",
   "metadata": {},
   "outputs": [],
   "source": [
    "script = \"\"\"\n",
    "DROP TABLE IF EXISTS employees;\n",
    "\n",
    "CREATE TABLE employees(\n",
    "id INTEGER PRIMARY KEY AUTOINCREMENT,\n",
    "name TEXT NOT NULL, \n",
    "salary REAL,\n",
    "department TEXT,\n",
    "position TEXT,\n",
    "hireDate TEXT);\n",
    "\n",
    "INSERT INTO employees(name, salary, department, position, hireDate) VALUES('Dave', 300, 'Marketing', 'LV1', '2020-01-01');\n",
    "INSERT INTO employees(name, salary, department, position, hireDate) VALUES('Clara', 420, 'Sales', 'LV2', '2018-01-11');\n",
    "INSERT INTO employees(id, name, salary, department, position, hireDate) VALUES(3, 'Jane', 620, 'Developer', 'LV4', '2015-11-01');\n",
    "INSERT INTO employees VALUES(4, 'Peter', 530, 'Developer', 'LV2', '2020-11-01'); \n",
    "\"\"\"\n",
    "\n",
    "cur.executescript(script)\n",
    "conn.commit() # DB에 위 Table & Data가 저장"
   ]
  },
  {
   "cell_type": "code",
   "execution_count": 10,
   "id": "2ad8eca3",
   "metadata": {},
   "outputs": [],
   "source": [
    "data = [('Elena', 510, 'Recruiter', 'LV3', '2020-07-01'), \n",
    "        ('Sujan', 710, 'HR', 'LV5', '2014-06-01'),\n",
    "        ('Jake', 210, 'CEO', 'LV8', '2012-01-01')]\n",
    "\n",
    "cur.executemany(\"INSERT INTO employees(name, salary, department, position, hireDate) VALUES(?, ?, ?, ?, ?)\", data)\n",
    "conn.commit()"
   ]
  },
  {
   "cell_type": "code",
   "execution_count": 11,
   "id": "0150936e",
   "metadata": {},
   "outputs": [
    {
     "name": "stdout",
     "output_type": "stream",
     "text": [
      "(1, 'Dave', 300.0, 'Marketing', 'LV1', '2020-01-01')\n",
      "(2, 'Clara', 420.0, 'Sales', 'LV2', '2018-01-11')\n",
      "(3, 'Jane', 620.0, 'Developer', 'LV4', '2015-11-01')\n",
      "(4, 'Peter', 530.0, 'Developer', 'LV2', '2020-11-01')\n",
      "(5, 'Elena', 510.0, 'Recruiter', 'LV3', '2020-07-01')\n",
      "(6, 'Sujan', 710.0, 'HR', 'LV5', '2014-06-01')\n",
      "(7, 'Jake', 210.0, 'CEO', 'LV8', '2012-01-01')\n"
     ]
    }
   ],
   "source": [
    "cur.execute(\"SELECT * FROM employees;\")\n",
    "\n",
    "employee_list = cur.fetchall()\n",
    "\n",
    "for employee in employee_list:\n",
    "    print(employee)"
   ]
  },
  {
   "cell_type": "code",
   "execution_count": 12,
   "id": "a161b5fb",
   "metadata": {},
   "outputs": [
    {
     "name": "stdout",
     "output_type": "stream",
     "text": [
      "['id', 'name', 'salary', 'department', 'position', 'hireDate']\n"
     ]
    }
   ],
   "source": [
    "print([col[0] for col in cur.description])"
   ]
  },
  {
   "cell_type": "code",
   "execution_count": 13,
   "id": "6ff2afa7",
   "metadata": {},
   "outputs": [
    {
     "data": {
      "text/html": [
       "<div>\n",
       "<style scoped>\n",
       "    .dataframe tbody tr th:only-of-type {\n",
       "        vertical-align: middle;\n",
       "    }\n",
       "\n",
       "    .dataframe tbody tr th {\n",
       "        vertical-align: top;\n",
       "    }\n",
       "\n",
       "    .dataframe thead th {\n",
       "        text-align: right;\n",
       "    }\n",
       "</style>\n",
       "<table border=\"1\" class=\"dataframe\">\n",
       "  <thead>\n",
       "    <tr style=\"text-align: right;\">\n",
       "      <th></th>\n",
       "      <th>id</th>\n",
       "      <th>name</th>\n",
       "      <th>salary</th>\n",
       "      <th>department</th>\n",
       "      <th>position</th>\n",
       "      <th>hireDate</th>\n",
       "    </tr>\n",
       "  </thead>\n",
       "  <tbody>\n",
       "    <tr>\n",
       "      <th>0</th>\n",
       "      <td>1</td>\n",
       "      <td>Dave</td>\n",
       "      <td>300.0</td>\n",
       "      <td>Marketing</td>\n",
       "      <td>LV1</td>\n",
       "      <td>2020-01-01</td>\n",
       "    </tr>\n",
       "    <tr>\n",
       "      <th>1</th>\n",
       "      <td>2</td>\n",
       "      <td>Clara</td>\n",
       "      <td>420.0</td>\n",
       "      <td>Sales</td>\n",
       "      <td>LV2</td>\n",
       "      <td>2018-01-11</td>\n",
       "    </tr>\n",
       "    <tr>\n",
       "      <th>2</th>\n",
       "      <td>3</td>\n",
       "      <td>Jane</td>\n",
       "      <td>620.0</td>\n",
       "      <td>Developer</td>\n",
       "      <td>LV4</td>\n",
       "      <td>2015-11-01</td>\n",
       "    </tr>\n",
       "    <tr>\n",
       "      <th>3</th>\n",
       "      <td>4</td>\n",
       "      <td>Peter</td>\n",
       "      <td>530.0</td>\n",
       "      <td>Developer</td>\n",
       "      <td>LV2</td>\n",
       "      <td>2020-11-01</td>\n",
       "    </tr>\n",
       "    <tr>\n",
       "      <th>4</th>\n",
       "      <td>5</td>\n",
       "      <td>Elena</td>\n",
       "      <td>510.0</td>\n",
       "      <td>Recruiter</td>\n",
       "      <td>LV3</td>\n",
       "      <td>2020-07-01</td>\n",
       "    </tr>\n",
       "    <tr>\n",
       "      <th>5</th>\n",
       "      <td>6</td>\n",
       "      <td>Sujan</td>\n",
       "      <td>710.0</td>\n",
       "      <td>HR</td>\n",
       "      <td>LV5</td>\n",
       "      <td>2014-06-01</td>\n",
       "    </tr>\n",
       "    <tr>\n",
       "      <th>6</th>\n",
       "      <td>7</td>\n",
       "      <td>Jake</td>\n",
       "      <td>210.0</td>\n",
       "      <td>CEO</td>\n",
       "      <td>LV8</td>\n",
       "      <td>2012-01-01</td>\n",
       "    </tr>\n",
       "  </tbody>\n",
       "</table>\n",
       "</div>"
      ],
      "text/plain": [
       "   id   name  salary department position    hireDate\n",
       "0   1   Dave   300.0  Marketing      LV1  2020-01-01\n",
       "1   2  Clara   420.0      Sales      LV2  2018-01-11\n",
       "2   3   Jane   620.0  Developer      LV4  2015-11-01\n",
       "3   4  Peter   530.0  Developer      LV2  2020-11-01\n",
       "4   5  Elena   510.0  Recruiter      LV3  2020-07-01\n",
       "5   6  Sujan   710.0         HR      LV5  2014-06-01\n",
       "6   7   Jake   210.0        CEO      LV8  2012-01-01"
      ]
     },
     "execution_count": 13,
     "metadata": {},
     "output_type": "execute_result"
    }
   ],
   "source": [
    "df = pd.read_sql_query(\"SELECT * FROM employees\", conn) \n",
    "df"
   ]
  },
  {
   "cell_type": "code",
   "execution_count": 14,
   "id": "bbde82a3",
   "metadata": {},
   "outputs": [],
   "source": [
    "conn.close()"
   ]
  },
  {
   "cell_type": "code",
   "execution_count": null,
   "id": "6d5721ed",
   "metadata": {},
   "outputs": [],
   "source": []
  }
 ],
 "metadata": {
  "kernelspec": {
   "display_name": "Python 3 (ipykernel)",
   "language": "python",
   "name": "python3"
  },
  "language_info": {
   "codemirror_mode": {
    "name": "ipython",
    "version": 3
   },
   "file_extension": ".py",
   "mimetype": "text/x-python",
   "name": "python",
   "nbconvert_exporter": "python",
   "pygments_lexer": "ipython3",
   "version": "3.8.17"
  }
 },
 "nbformat": 4,
 "nbformat_minor": 5
}
