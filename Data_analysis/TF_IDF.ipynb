{
 "cells": [
  {
   "cell_type": "markdown",
   "id": "8e255c93",
   "metadata": {},
   "source": [
    "# TF-IDF"
   ]
  },
  {
   "cell_type": "markdown",
   "id": "7bf5d845",
   "metadata": {},
   "source": [
    "## 1. countVectorizer"
   ]
  },
  {
   "cell_type": "markdown",
   "id": "b7cd0967",
   "metadata": {},
   "source": [
    "문서 => 벡터 공간으로의 표현(IDF 적용전의 TF 값)"
   ]
  },
  {
   "cell_type": "markdown",
   "id": "2ce978ca",
   "metadata": {},
   "source": [
    "## 2. TF-IDF Vectorizer"
   ]
  },
  {
   "cell_type": "markdown",
   "id": "ab226b9c",
   "metadata": {},
   "source": [
    "어떤 특정 단어가 문서나 말뭉치에서 어떤 중요도를 가지는지를 나타내는 지표"
   ]
  },
  {
   "cell_type": "markdown",
   "id": "fb0de6ed",
   "metadata": {},
   "source": [
    "많은 문서에 공통적으로 들어있는 단어의 경우 문서 구별 능력이 떨어진다고 보아 가중치를 축소 하는 방법"
   ]
  },
  {
   "cell_type": "markdown",
   "id": "842b3d4e",
   "metadata": {},
   "source": [
    "## 3. Cosine. Similarity"
   ]
  },
  {
   "cell_type": "markdown",
   "id": "75ba0723",
   "metadata": {},
   "source": [
    "두 벡터(단어 빈도) 사이 각도의 코사인 값을 이용하여 측정하는 값으로, 두 벡터 의 유사한 정도를 의미"
   ]
  },
  {
   "cell_type": "code",
   "execution_count": 24,
   "id": "58650646",
   "metadata": {},
   "outputs": [],
   "source": [
    "from sklearn.feature_extraction.text import TfidfVectorizer\n",
    "from sklearn.metrics.pairwise import cosine_similarity\n",
    "import pandas as pd\n",
    "import numpy as np"
   ]
  },
  {
   "cell_type": "code",
   "execution_count": 11,
   "id": "1ae72aa8",
   "metadata": {},
   "outputs": [],
   "source": [
    "file = open('shawshank.txt', 'r', encoding='utf-8')\n",
    "lines = file.readlines()\n",
    "doc1 = ' '.join(lines)"
   ]
  },
  {
   "cell_type": "code",
   "execution_count": 12,
   "id": "8fe90f64",
   "metadata": {},
   "outputs": [],
   "source": [
    "file = open('godfather.txt', 'r', encoding='utf-8')\n",
    "lines = file.readlines()\n",
    "doc2 = ' '.join(lines)"
   ]
  },
  {
   "cell_type": "code",
   "execution_count": 13,
   "id": "91af43f3",
   "metadata": {},
   "outputs": [],
   "source": [
    "corpus = [doc1, doc2]"
   ]
  },
  {
   "cell_type": "code",
   "execution_count": 14,
   "id": "99fd9cb5",
   "metadata": {},
   "outputs": [],
   "source": [
    "vectorizer = TfidfVectorizer()"
   ]
  },
  {
   "cell_type": "code",
   "execution_count": 15,
   "id": "76f73b18",
   "metadata": {},
   "outputs": [
    {
     "data": {
      "text/html": [
       "<style>#sk-container-id-1 {color: black;}#sk-container-id-1 pre{padding: 0;}#sk-container-id-1 div.sk-toggleable {background-color: white;}#sk-container-id-1 label.sk-toggleable__label {cursor: pointer;display: block;width: 100%;margin-bottom: 0;padding: 0.3em;box-sizing: border-box;text-align: center;}#sk-container-id-1 label.sk-toggleable__label-arrow:before {content: \"▸\";float: left;margin-right: 0.25em;color: #696969;}#sk-container-id-1 label.sk-toggleable__label-arrow:hover:before {color: black;}#sk-container-id-1 div.sk-estimator:hover label.sk-toggleable__label-arrow:before {color: black;}#sk-container-id-1 div.sk-toggleable__content {max-height: 0;max-width: 0;overflow: hidden;text-align: left;background-color: #f0f8ff;}#sk-container-id-1 div.sk-toggleable__content pre {margin: 0.2em;color: black;border-radius: 0.25em;background-color: #f0f8ff;}#sk-container-id-1 input.sk-toggleable__control:checked~div.sk-toggleable__content {max-height: 200px;max-width: 100%;overflow: auto;}#sk-container-id-1 input.sk-toggleable__control:checked~label.sk-toggleable__label-arrow:before {content: \"▾\";}#sk-container-id-1 div.sk-estimator input.sk-toggleable__control:checked~label.sk-toggleable__label {background-color: #d4ebff;}#sk-container-id-1 div.sk-label input.sk-toggleable__control:checked~label.sk-toggleable__label {background-color: #d4ebff;}#sk-container-id-1 input.sk-hidden--visually {border: 0;clip: rect(1px 1px 1px 1px);clip: rect(1px, 1px, 1px, 1px);height: 1px;margin: -1px;overflow: hidden;padding: 0;position: absolute;width: 1px;}#sk-container-id-1 div.sk-estimator {font-family: monospace;background-color: #f0f8ff;border: 1px dotted black;border-radius: 0.25em;box-sizing: border-box;margin-bottom: 0.5em;}#sk-container-id-1 div.sk-estimator:hover {background-color: #d4ebff;}#sk-container-id-1 div.sk-parallel-item::after {content: \"\";width: 100%;border-bottom: 1px solid gray;flex-grow: 1;}#sk-container-id-1 div.sk-label:hover label.sk-toggleable__label {background-color: #d4ebff;}#sk-container-id-1 div.sk-serial::before {content: \"\";position: absolute;border-left: 1px solid gray;box-sizing: border-box;top: 0;bottom: 0;left: 50%;z-index: 0;}#sk-container-id-1 div.sk-serial {display: flex;flex-direction: column;align-items: center;background-color: white;padding-right: 0.2em;padding-left: 0.2em;position: relative;}#sk-container-id-1 div.sk-item {position: relative;z-index: 1;}#sk-container-id-1 div.sk-parallel {display: flex;align-items: stretch;justify-content: center;background-color: white;position: relative;}#sk-container-id-1 div.sk-item::before, #sk-container-id-1 div.sk-parallel-item::before {content: \"\";position: absolute;border-left: 1px solid gray;box-sizing: border-box;top: 0;bottom: 0;left: 50%;z-index: -1;}#sk-container-id-1 div.sk-parallel-item {display: flex;flex-direction: column;z-index: 1;position: relative;background-color: white;}#sk-container-id-1 div.sk-parallel-item:first-child::after {align-self: flex-end;width: 50%;}#sk-container-id-1 div.sk-parallel-item:last-child::after {align-self: flex-start;width: 50%;}#sk-container-id-1 div.sk-parallel-item:only-child::after {width: 0;}#sk-container-id-1 div.sk-dashed-wrapped {border: 1px dashed gray;margin: 0 0.4em 0.5em 0.4em;box-sizing: border-box;padding-bottom: 0.4em;background-color: white;}#sk-container-id-1 div.sk-label label {font-family: monospace;font-weight: bold;display: inline-block;line-height: 1.2em;}#sk-container-id-1 div.sk-label-container {text-align: center;}#sk-container-id-1 div.sk-container {/* jupyter's `normalize.less` sets `[hidden] { display: none; }` but bootstrap.min.css set `[hidden] { display: none !important; }` so we also need the `!important` here to be able to override the default hidden behavior on the sphinx rendered scikit-learn.org. See: https://github.com/scikit-learn/scikit-learn/issues/21755 */display: inline-block !important;position: relative;}#sk-container-id-1 div.sk-text-repr-fallback {display: none;}</style><div id=\"sk-container-id-1\" class=\"sk-top-container\"><div class=\"sk-text-repr-fallback\"><pre>TfidfVectorizer()</pre><b>In a Jupyter environment, please rerun this cell to show the HTML representation or trust the notebook. <br />On GitHub, the HTML representation is unable to render, please try loading this page with nbviewer.org.</b></div><div class=\"sk-container\" hidden><div class=\"sk-item\"><div class=\"sk-estimator sk-toggleable\"><input class=\"sk-toggleable__control sk-hidden--visually\" id=\"sk-estimator-id-1\" type=\"checkbox\" checked><label for=\"sk-estimator-id-1\" class=\"sk-toggleable__label sk-toggleable__label-arrow\">TfidfVectorizer</label><div class=\"sk-toggleable__content\"><pre>TfidfVectorizer()</pre></div></div></div></div></div>"
      ],
      "text/plain": [
       "TfidfVectorizer()"
      ]
     },
     "execution_count": 15,
     "metadata": {},
     "output_type": "execute_result"
    }
   ],
   "source": [
    "vectorizer.fit(corpus)"
   ]
  },
  {
   "cell_type": "code",
   "execution_count": 33,
   "id": "74c37d4e",
   "metadata": {},
   "outputs": [
    {
     "data": {
      "text/plain": [
       "matrix([[0.00889703, 0.        , 0.00138938, ..., 0.00138938, 0.        ,\n",
       "         0.00138938]])"
      ]
     },
     "execution_count": 33,
     "metadata": {},
     "output_type": "execute_result"
    }
   ],
   "source": [
    "result = vectorizer.transform(corpus).todense()\n",
    "result[1]"
   ]
  },
  {
   "cell_type": "code",
   "execution_count": 35,
   "id": "2ade7abc",
   "metadata": {},
   "outputs": [],
   "source": [
    "# cosine_similarity(result[0],result[1])"
   ]
  },
  {
   "cell_type": "code",
   "execution_count": 37,
   "id": "badee7ad",
   "metadata": {},
   "outputs": [],
   "source": [
    "file = open('shawshank.txt', 'r', encoding = 'utf-8')\n",
    "lines = file.readlines()  \n",
    "doc1 = ' '.join(lines)\n",
    "\n",
    "file = open('godfather.txt', 'r', encoding = 'utf-8')\n",
    "lines = file.readlines()  \n",
    "doc2 = ' '.join(lines)\n",
    "\n",
    "file = open('inception.txt', 'r', encoding = 'utf-8')\n",
    "lines = file.readlines()\n",
    "doc3 = ' '.join(lines)"
   ]
  },
  {
   "cell_type": "code",
   "execution_count": 38,
   "id": "875899b5",
   "metadata": {},
   "outputs": [],
   "source": [
    "corpus = [doc1, doc2, doc3]\n",
    "vectorizer = TfidfVectorizer()\n",
    "X = vectorizer.fit_transform(corpus).todense() "
   ]
  }
 ],
 "metadata": {
  "kernelspec": {
   "display_name": "Python 3 (ipykernel)",
   "language": "python",
   "name": "python3"
  },
  "language_info": {
   "codemirror_mode": {
    "name": "ipython",
    "version": 3
   },
   "file_extension": ".py",
   "mimetype": "text/x-python",
   "name": "python",
   "nbconvert_exporter": "python",
   "pygments_lexer": "ipython3",
   "version": "3.8.17"
  }
 },
 "nbformat": 4,
 "nbformat_minor": 5
}
