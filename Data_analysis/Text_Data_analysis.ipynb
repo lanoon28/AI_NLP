{
 "cells": [
  {
   "cell_type": "markdown",
   "id": "e25a16d7",
   "metadata": {},
   "source": [
    "# Text data Analysis"
   ]
  },
  {
   "cell_type": "markdown",
   "id": "93368f7f",
   "metadata": {},
   "source": [
    "## Process"
   ]
  },
  {
   "cell_type": "markdown",
   "id": "0e4d96fa",
   "metadata": {},
   "source": [
    "1. 텍스트 데이터를 str 자료형으로 준비 "
   ]
  },
  {
   "cell_type": "markdown",
   "id": "5b384f06",
   "metadata": {},
   "source": [
    "2. Tokenize(형태소 분석)"
   ]
  },
  {
   "cell_type": "markdown",
   "id": "60199df9",
   "metadata": {},
   "source": [
    "3. POS Tagging (Part-of-speech, 품사표시)"
   ]
  },
  {
   "cell_type": "markdown",
   "id": "187e4f5e",
   "metadata": {},
   "source": [
    "4. Stopwords 제거 (불용어 제거)"
   ]
  },
  {
   "cell_type": "markdown",
   "id": "aae30dfd",
   "metadata": {},
   "source": [
    "5. 단어 갯수 카운팅 & 단어 사전 생성"
   ]
  },
  {
   "cell_type": "markdown",
   "id": "c58aee2c",
   "metadata": {},
   "source": [
    "6. 단어 사전 기반 데이터 시각화 => 머신러닝/딥러닝 모델 적용"
   ]
  },
  {
   "cell_type": "code",
   "execution_count": 24,
   "id": "63d3931e",
   "metadata": {},
   "outputs": [],
   "source": [
    "import nltk # national language toolkit\n",
    "from nltk.corpus import stopwords\n",
    "from collections import Counter\n",
    "import matplotlib.pyplot as plt\n",
    "import re # regular expression"
   ]
  },
  {
   "cell_type": "code",
   "execution_count": 25,
   "id": "62541917",
   "metadata": {},
   "outputs": [],
   "source": [
    "sentence = 'NLTK is a leading platform for building Python programs to work with human language data. It provides easy-to-use interfaces to over 50 corpora and lexical resources such as WordNet, along with a suite of text processing libraries for classification, tokenization, stemming, tagging, parsing, and semantic reasoning, wrappers for industrial-strength NLP libraries, and an active discussion forum.'\n",
    "\n",
    "tokens = nltk.word_tokenize(sentence) #토크나이징 처리 \n",
    "nltk.pos_tag(tokens) # 품사를 태깅\n",
    "stopWords = stopwords.words('english') # 불용어 모음\n",
    "\n",
    "stopWords.append('.')\n",
    "stopWords.append(',')\n",
    "stopWords.append('\\'')\n",
    "stopWords.append('\\\"')\n",
    "stopWords.append('_')\n",
    "stopWords.append('else')\n",
    "stopWords.append('$')"
   ]
  },
  {
   "cell_type": "code",
   "execution_count": 15,
   "id": "6b399ec6",
   "metadata": {},
   "outputs": [],
   "source": [
    "result = []\n",
    "for token in tokens:\n",
    "    if token.lower() not in stopWords:\n",
    "        result.append(token)"
   ]
  },
  {
   "cell_type": "code",
   "execution_count": 14,
   "id": "e42c7356",
   "metadata": {},
   "outputs": [],
   "source": [
    "lemmatizer = nltk.wordnet.WordNetLemmatizer() # 단어의 사전 형태로 복원 ex) cats => cat"
   ]
  },
  {
   "cell_type": "code",
   "execution_count": 15,
   "id": "f52b2208",
   "metadata": {},
   "outputs": [
    {
     "name": "stdout",
     "output_type": "stream",
     "text": [
      "cat\n",
      "goose\n"
     ]
    }
   ],
   "source": [
    "print(lemmatizer.lemmatize(\"cats\"))\n",
    "print(lemmatizer.lemmatize(\"geese\"))"
   ]
  },
  {
   "cell_type": "code",
   "execution_count": 38,
   "id": "3dcb4781",
   "metadata": {},
   "outputs": [],
   "source": [
    "file = open('moviereview.txt', 'r', encoding='utf-8')\n",
    "lines = file.readlines()\n",
    "\n",
    "sentnce = lines[1]\n",
    "\n",
    "tokens_temp = nltk.word_tokenize(sentnce)\n",
    "tokens = []\n",
    "\n",
    "for token in tokens:\n",
    "        if token.lower() not in stopWords:\n",
    "            tokens.append(token)\n",
    "            \n",
    "tag_tokens = nltk.pos_tag(tokens)\n",
    "lemmas = []\n",
    "\n",
    "for token, pos in tag_tokens:\n",
    "    if pos.startswith('N'):\n",
    "        lemmas.append(lemmatizer.lemmatize(token.lower()))\n",
    "    elif pos.startswith('J'):\n",
    "        lemmas.append(lemmatizer.lemmatize(token.lower(), pos= 'a'))\n",
    "    elif pos.startswith('V'):\n",
    "        lemmas.append(lemmatizer.lemmatize(token.lower(), pos= 'v'))\n",
    "    else:\n",
    "        lemmas.append(lemmatizer.lemmatize(token.lower()))"
   ]
  },
  {
   "cell_type": "code",
   "execution_count": 26,
   "id": "4206a6a1",
   "metadata": {},
   "outputs": [],
   "source": [
    "file = open('darkknight.txt', 'r', encoding= 'utf-8')\n",
    "lines = file.readlines()"
   ]
  },
  {
   "cell_type": "code",
   "execution_count": 22,
   "id": "dceafadd",
   "metadata": {},
   "outputs": [],
   "source": [
    "tokens = []\n",
    "\n",
    "for line in lines:\n",
    "    tokenized = nltk.word_tokenize(line)\n",
    "    for token in tokenized:\n",
    "        if token.lower() not in stopWords:\n",
    "            tokens.append(token)\n",
    "tags = nltk.pos_tag(tokens)"
   ]
  },
  {
   "cell_type": "code",
   "execution_count": 17,
   "id": "eb87d92a",
   "metadata": {},
   "outputs": [],
   "source": [
    "word_list = []\n",
    "word_list_a = []\n",
    "word_list_v = []\n",
    "for word, pos in tags:\n",
    "    if pos in ['NN', 'NNS', 'NNP', 'NNPS']:\n",
    "        word_list.append(word.lower())\n",
    "    elif pos.startswith('J'):\n",
    "        word_list_a.append(word.lower())\n",
    "    elif pos.startswith('V'):\n",
    "        word_list_v.append(word.lower())"
   ]
  },
  {
   "cell_type": "code",
   "execution_count": 18,
   "id": "eaf901fb",
   "metadata": {},
   "outputs": [],
   "source": [
    "counts = Counter(word_list)\n",
    "counts_a = Counter(word_list_a)\n",
    "counts_v = Counter(word_list_v)"
   ]
  },
  {
   "cell_type": "code",
   "execution_count": 19,
   "id": "72d59d81",
   "metadata": {},
   "outputs": [
    {
     "name": "stdout",
     "output_type": "stream",
     "text": [
      "[('movie', 406), ('batman', 303), ('film', 284), ('joker', 219), ('dark', 136)]\n",
      "[('good', 141), ('best', 102), ('great', 78), ('many', 54), ('much', 52)]\n",
      "[('see', 59), ('get', 54), ('made', 49), ('think', 46), ('seen', 45)]\n"
     ]
    }
   ],
   "source": [
    "print(counts.most_common(5))\n",
    "print(counts_a.most_common(5))\n",
    "print(counts_v.most_common(5))"
   ]
  },
  {
   "cell_type": "code",
   "execution_count": 23,
   "id": "f5ae8c61",
   "metadata": {},
   "outputs": [
    {
     "data": {
      "text/plain": [
       "<Text: 've subjected enormous amount hype marketing Dark Knight...>"
      ]
     },
     "execution_count": 23,
     "metadata": {},
     "output_type": "execute_result"
    }
   ],
   "source": [
    "corpus = nltk.Text(tokens)\n",
    "corpus"
   ]
  },
  {
   "cell_type": "code",
   "execution_count": 27,
   "id": "f029575d",
   "metadata": {},
   "outputs": [],
   "source": [
    "tokens = []\n",
    "for line in lines:\n",
    "    tokenized = nltk.word_tokenize(line)\n",
    "    for token in tokenized:\n",
    "        if token.lower() not in stopWords:\n",
    "            if re.match('^[a-zA-Z]+',token): # 대괄호 안에 있는 문자로 시작하는 것 + => 하나 혹은 그이상, * => 0개 혹은 그이상, ? => 하나 혹은 0개\n",
    "                tokens.append(token)"
   ]
  },
  {
   "cell_type": "code",
   "execution_count": 28,
   "id": "7c2fd407",
   "metadata": {},
   "outputs": [],
   "source": [
    "corpus = nltk.Text(tokens)"
   ]
  },
  {
   "cell_type": "code",
   "execution_count": 33,
   "id": "260da367",
   "metadata": {},
   "outputs": [
    {
     "data": {
      "image/png": "[encoded data removed]",
      "text/plain": [
       "<Figure size 1000x300 with 1 Axes>"
      ]
     },
     "metadata": {},
     "output_type": "display_data"
    },
    {
     "data": {
      "text/plain": [
       "<Axes: title={'center': 'Top 25 Words'}, xlabel='Samples', ylabel='Counts'>"
      ]
     },
     "execution_count": 33,
     "metadata": {},
     "output_type": "execute_result"
    }
   ],
   "source": [
    "plt.figure(figsize=(10, 3))\n",
    "plt.title('Top 25 Words')\n",
    "corpus.plot(25)"
   ]
  }
 ],
 "metadata": {
  "kernelspec": {
   "display_name": "Python 3 (ipykernel)",
   "language": "python",
   "name": "python3"
  },
  "language_info": {
   "codemirror_mode": {
    "name": "ipython",
    "version": 3
   },
   "file_extension": ".py",
   "mimetype": "text/x-python",
   "name": "python",
   "nbconvert_exporter": "python",
   "pygments_lexer": "ipython3",
   "version": "3.8.17"
  }
 },
 "nbformat": 4,
 "nbformat_minor": 5
}
