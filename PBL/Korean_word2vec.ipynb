{
 "cells": [
  {
   "cell_type": "code",
   "execution_count": 16,
   "id": "8a72dc12",
   "metadata": {},
   "outputs": [],
   "source": [
    "import pandas as pd\n",
    "import csv\n",
    "from konlpy.tag import Okt\n",
    "from gensim.models import Word2Vec"
   ]
  },
  {
   "cell_type": "code",
   "execution_count": 2,
   "id": "23cc9f81",
   "metadata": {},
   "outputs": [],
   "source": [
    "tokenizer = Okt()"
   ]
  },
  {
   "cell_type": "code",
   "execution_count": 30,
   "id": "9a94760d",
   "metadata": {},
   "outputs": [],
   "source": [
    "tokenized_data = []\n",
    "tokenized_data_nouns = []"
   ]
  },
  {
   "cell_type": "code",
   "execution_count": 4,
   "id": "8f6e296f",
   "metadata": {},
   "outputs": [],
   "source": [
    "corpus = pd.read_csv('data.txt', on_bad_lines='skip')"
   ]
  },
  {
   "cell_type": "code",
   "execution_count": 5,
   "id": "62c8c751",
   "metadata": {},
   "outputs": [
    {
     "data": {
      "text/html": [
       "<div>\n",
       "<style scoped>\n",
       "    .dataframe tbody tr th:only-of-type {\n",
       "        vertical-align: middle;\n",
       "    }\n",
       "\n",
       "    .dataframe tbody tr th {\n",
       "        vertical-align: top;\n",
       "    }\n",
       "\n",
       "    .dataframe thead th {\n",
       "        text-align: right;\n",
       "    }\n",
       "</style>\n",
       "<table border=\"1\" class=\"dataframe\">\n",
       "  <thead>\n",
       "    <tr style=\"text-align: right;\">\n",
       "      <th></th>\n",
       "      <th>우리에게 북한은 꼭 없애야 할 적일뿐</th>\n",
       "    </tr>\n",
       "  </thead>\n",
       "  <tbody>\n",
       "    <tr>\n",
       "      <th>0</th>\n",
       "      <td>문재앙 탄핵 원하면 추천 눌러주세요!! 여론의 힘을 보여줍시다</td>\n",
       "    </tr>\n",
       "    <tr>\n",
       "      <th>1</th>\n",
       "      <td>김정은이 트럼프를 개호구 문재인으로 착각했나봄ㅋㅋ</td>\n",
       "    </tr>\n",
       "    <tr>\n",
       "      <th>2</th>\n",
       "      <td>부칸이 밑장빼기하다가 딱 걸렸군</td>\n",
       "    </tr>\n",
       "    <tr>\n",
       "      <th>3</th>\n",
       "      <td>북한 욕하면 친일이란 그딴 사고방식은 김일성 종합대학에서 배웠니? ㅋㅋ</td>\n",
       "    </tr>\n",
       "    <tr>\n",
       "      <th>4</th>\n",
       "      <td>처음부터 북한은 비핵화할 생각이 없다고 보았는데</td>\n",
       "    </tr>\n",
       "  </tbody>\n",
       "</table>\n",
       "</div>"
      ],
      "text/plain": [
       "                      우리에게 북한은 꼭 없애야 할 적일뿐\n",
       "0       문재앙 탄핵 원하면 추천 눌러주세요!! 여론의 힘을 보여줍시다\n",
       "1              김정은이 트럼프를 개호구 문재인으로 착각했나봄ㅋㅋ\n",
       "2                        부칸이 밑장빼기하다가 딱 걸렸군\n",
       "3  북한 욕하면 친일이란 그딴 사고방식은 김일성 종합대학에서 배웠니? ㅋㅋ\n",
       "4               처음부터 북한은 비핵화할 생각이 없다고 보았는데"
      ]
     },
     "execution_count": 5,
     "metadata": {},
     "output_type": "execute_result"
    }
   ],
   "source": [
    "corpus.head()"
   ]
  },
  {
   "cell_type": "code",
   "execution_count": 6,
   "id": "d37d1340",
   "metadata": {},
   "outputs": [],
   "source": [
    "corpus.rename(columns={'우리에게 북한은 꼭 없애야 할 적일뿐':'data'}, inplace=True)"
   ]
  },
  {
   "cell_type": "code",
   "execution_count": 7,
   "id": "e88896b2",
   "metadata": {},
   "outputs": [],
   "source": [
    "sentences = corpus['data'].to_list()"
   ]
  },
  {
   "cell_type": "code",
   "execution_count": 39,
   "id": "ff3cba43",
   "metadata": {},
   "outputs": [
    {
     "data": {
      "text/plain": [
       "1000"
      ]
     },
     "execution_count": 39,
     "metadata": {},
     "output_type": "execute_result"
    }
   ],
   "source": [
    "len(sentences)"
   ]
  },
  {
   "cell_type": "code",
   "execution_count": 8,
   "id": "6a69c8a4",
   "metadata": {},
   "outputs": [],
   "source": [
    "learnig_data = sentences[:1000]"
   ]
  },
  {
   "cell_type": "code",
   "execution_count": 9,
   "id": "c4a2045c",
   "metadata": {},
   "outputs": [],
   "source": [
    "for s in learnig_data:\n",
    "    temp = tokenizer.morphs(s, norm=True ,stem=True)\n",
    "    tokenized_data.append(temp)"
   ]
  },
  {
   "cell_type": "code",
   "execution_count": 32,
   "id": "9ea6648c",
   "metadata": {},
   "outputs": [],
   "source": [
    "for s in learnig_data:\n",
    "    temp = tokenizer.nouns(s)\n",
    "    tokenized_data_nouns.append(temp)"
   ]
  },
  {
   "cell_type": "code",
   "execution_count": 26,
   "id": "260374cd",
   "metadata": {},
   "outputs": [],
   "source": [
    "cbow_model = Word2Vec(sentences=tokenized_data, vector_size=200, workers=4)\n",
    "skip_gram_model = Word2Vec(sentences=tokenized_data, vector_size=200, workers=4, sg=1)"
   ]
  },
  {
   "cell_type": "code",
   "execution_count": 33,
   "id": "1564ecfe",
   "metadata": {},
   "outputs": [],
   "source": [
    "cbow_model_nouns = Word2Vec(sentences=tokenized_data_nouns, vector_size=200, workers=4)\n",
    "skip_gram_model_nouns = Word2Vec(sentences=tokenized_data_nouns, vector_size=200, workers=4, sg=1)"
   ]
  },
  {
   "cell_type": "code",
   "execution_count": 35,
   "id": "344ffa46",
   "metadata": {},
   "outputs": [],
   "source": [
    "cbow_model_nouns.save('cbow_nouns_word2vec.model')"
   ]
  },
  {
   "cell_type": "code",
   "execution_count": 36,
   "id": "eb6dd29e",
   "metadata": {},
   "outputs": [],
   "source": [
    "skip_gram_model_nouns.save('skip_gram_nouns_word2vec.model')"
   ]
  },
  {
   "cell_type": "code",
   "execution_count": 37,
   "id": "46882f86",
   "metadata": {},
   "outputs": [
    {
     "data": {
      "text/plain": [
       "[('미국', 0.9474704265594482),\n",
       " ('김정은', 0.9430890083312988),\n",
       " ('트럼프', 0.9333276152610779),\n",
       " ('회담', 0.9329010248184204),\n",
       " ('핵', 0.9324692487716675),\n",
       " ('영변', 0.9277737736701965),\n",
       " ('생각', 0.9250193238258362),\n",
       " ('문재인', 0.9216212630271912),\n",
       " ('것', 0.9206480383872986),\n",
       " ('그냥', 0.9204111695289612)]"
      ]
     },
     "execution_count": 37,
     "metadata": {},
     "output_type": "execute_result"
    }
   ],
   "source": [
    "cbow_model_nouns.wv.most_similar('북한')"
   ]
  },
  {
   "cell_type": "code",
   "execution_count": 38,
   "id": "8a4dc17a",
   "metadata": {},
   "outputs": [
    {
     "data": {
      "text/plain": [
       "[('미국', 0.9992578029632568),\n",
       " ('김정은', 0.9992113709449768),\n",
       " ('그냥', 0.9991530776023865),\n",
       " ('회담', 0.9991518259048462),\n",
       " ('트럼프', 0.9991286396980286),\n",
       " ('문재인', 0.9991099834442139),\n",
       " ('핵', 0.9991089701652527),\n",
       " ('북', 0.9991028308868408),\n",
       " ('생각', 0.9990753531455994),\n",
       " ('알', 0.9990578889846802)]"
      ]
     },
     "execution_count": 38,
     "metadata": {},
     "output_type": "execute_result"
    }
   ],
   "source": [
    "skip_gram_model_nouns.wv.most_similar('북한')"
   ]
  },
  {
   "cell_type": "code",
   "execution_count": null,
   "id": "6e72792b",
   "metadata": {},
   "outputs": [],
   "source": []
  }
 ],
 "metadata": {
  "kernelspec": {
   "display_name": "Python 3 (ipykernel)",
   "language": "python",
   "name": "python3"
  },
  "language_info": {
   "codemirror_mode": {
    "name": "ipython",
    "version": 3
   },
   "file_extension": ".py",
   "mimetype": "text/x-python",
   "name": "python",
   "nbconvert_exporter": "python",
   "pygments_lexer": "ipython3",
   "version": "3.8.17"
  }
 },
 "nbformat": 4,
 "nbformat_minor": 5
}
