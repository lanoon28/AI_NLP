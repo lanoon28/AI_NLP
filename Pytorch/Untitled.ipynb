{
 "cells": [
  {
   "cell_type": "code",
   "execution_count": 2,
   "id": "3deccff8",
   "metadata": {},
   "outputs": [],
   "source": [
    "import torch\n",
    "import numpy as np"
   ]
  },
  {
   "cell_type": "code",
   "execution_count": 4,
   "id": "8493b198",
   "metadata": {},
   "outputs": [
    {
     "name": "stdout",
     "output_type": "stream",
     "text": [
      "10 0 ()\n"
     ]
    }
   ],
   "source": [
    "data1 = np.array(10)\n",
    "print(data1, data1.ndim, data1.shape)"
   ]
  },
  {
   "cell_type": "code",
   "execution_count": 6,
   "id": "e6ceb1b4",
   "metadata": {},
   "outputs": [
    {
     "name": "stdout",
     "output_type": "stream",
     "text": [
      "tensor([1., 2.]) 1 torch.Size([2])\n"
     ]
    }
   ],
   "source": [
    "data2 = torch.FloatTensor([1,2])\n",
    "print(data2, data2.dim(), data2.shape)"
   ]
  },
  {
   "cell_type": "code",
   "execution_count": 7,
   "id": "c1156dc9",
   "metadata": {},
   "outputs": [
    {
     "name": "stdout",
     "output_type": "stream",
     "text": [
      "tensor([0., 0., 0.]) 1 torch.Size([3])\n"
     ]
    }
   ],
   "source": [
    "data3 = torch.FloatTensor(3)\n",
    "print(data3, data3.dim(),data3.shape)"
   ]
  },
  {
   "cell_type": "code",
   "execution_count": 8,
   "id": "af3e7d28",
   "metadata": {},
   "outputs": [
    {
     "name": "stdout",
     "output_type": "stream",
     "text": [
      "tensor([[0., 0.],\n",
      "        [0., 0.],\n",
      "        [0., 0.]]) 2 torch.Size([3, 2])\n"
     ]
    }
   ],
   "source": [
    "data4 = torch.FloatTensor(3,2)\n",
    "print(data4, data4.dim(),data4.shape)"
   ]
  },
  {
   "cell_type": "code",
   "execution_count": 10,
   "id": "2146f434",
   "metadata": {},
   "outputs": [
    {
     "name": "stdout",
     "output_type": "stream",
     "text": [
      "tensor([[1., 2.],\n",
      "        [3., 4.],\n",
      "        [4., 5.]]) 2 torch.Size([3, 2])\n"
     ]
    }
   ],
   "source": [
    "data5 = torch.FloatTensor([[1,2], [3,4], [4,5]])\n",
    "print(data5, data5.dim(),data5.shape)"
   ]
  },
  {
   "cell_type": "code",
   "execution_count": 11,
   "id": "1cc24a37",
   "metadata": {},
   "outputs": [
    {
     "name": "stdout",
     "output_type": "stream",
     "text": [
      "tensor([[[0.],\n",
      "         [0.]],\n",
      "\n",
      "        [[0.],\n",
      "         [0.]],\n",
      "\n",
      "        [[0.],\n",
      "         [0.]]]) 3 torch.Size([3, 2, 1])\n"
     ]
    }
   ],
   "source": [
    "data6 = torch.FloatTensor(3,2,1)\n",
    "print(data6, data6.dim(),data6.shape)"
   ]
  },
  {
   "cell_type": "code",
   "execution_count": null,
   "id": "06fa82d1",
   "metadata": {},
   "outputs": [],
   "source": []
  }
 ],
 "metadata": {
  "kernelspec": {
   "display_name": "Python 3 (ipykernel)",
   "language": "python",
   "name": "python3"
  },
  "language_info": {
   "codemirror_mode": {
    "name": "ipython",
    "version": 3
   },
   "file_extension": ".py",
   "mimetype": "text/x-python",
   "name": "python",
   "nbconvert_exporter": "python",
   "pygments_lexer": "ipython3",
   "version": "3.8.17"
  }
 },
 "nbformat": 4,
 "nbformat_minor": 5
}
