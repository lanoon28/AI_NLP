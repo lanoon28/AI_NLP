{
 "cells": [
  {
   "cell_type": "code",
   "execution_count": 13,
   "id": "baec10e7",
   "metadata": {},
   "outputs": [],
   "source": [
    "from sklearn import cluster\n",
    "import numpy as np\n",
    "import matplotlib.pyplot as plt\n",
    "from mpl_toolkits.mplot3d import Axes3D\n",
    "from sklearn import datasets\n",
    "from sklearn import metrics\n",
    "import warnings\n",
    "warnings.filterwarnings(\"ignore\")"
   ]
  },
  {
   "cell_type": "code",
   "execution_count": 2,
   "id": "e2d7255e",
   "metadata": {},
   "outputs": [],
   "source": [
    "X = np.array([[2, 4], [2, 8], [2, 0],\n",
    "              [8, 9], [4, 0], [0, 4]])"
   ]
  },
  {
   "cell_type": "code",
   "execution_count": 3,
   "id": "777ae8e7",
   "metadata": {},
   "outputs": [],
   "source": [
    "kmeans = cluster.KMeans(n_clusters=2, random_state=0).fit(X) "
   ]
  },
  {
   "cell_type": "code",
   "execution_count": 4,
   "id": "f7b8f51d",
   "metadata": {},
   "outputs": [
    {
     "name": "stdout",
     "output_type": "stream",
     "text": [
      "Clusters :  [1 0 1 0 1 1]\n"
     ]
    }
   ],
   "source": [
    "print(\"Clusters : \", kmeans.labels_)"
   ]
  },
  {
   "cell_type": "code",
   "execution_count": 5,
   "id": "7bae9cf8",
   "metadata": {},
   "outputs": [
    {
     "name": "stdout",
     "output_type": "stream",
     "text": [
      "Cluster centroids:  [[5.  8.5]\n",
      " [2.  2. ]]\n"
     ]
    }
   ],
   "source": [
    "print(\"Cluster centroids: \", kmeans.cluster_centers_)"
   ]
  },
  {
   "cell_type": "code",
   "execution_count": 6,
   "id": "e31c977b",
   "metadata": {},
   "outputs": [
    {
     "name": "stdout",
     "output_type": "stream",
     "text": [
      "Prediction cluster of [0, 0], [8, 4]:  [1 0]\n"
     ]
    }
   ],
   "source": [
    "print(\"Prediction cluster of [0, 0], [8, 4]: \", (kmeans.predict([[0, 0], [8, 4]]))) "
   ]
  },
  {
   "cell_type": "code",
   "execution_count": 8,
   "id": "1f258315",
   "metadata": {},
   "outputs": [],
   "source": [
    "iris = datasets.load_iris()\n",
    "\n",
    "X = iris.data\n",
    "y = iris.target"
   ]
  },
  {
   "cell_type": "code",
   "execution_count": 9,
   "id": "647432a6",
   "metadata": {},
   "outputs": [
    {
     "name": "stdout",
     "output_type": "stream",
     "text": [
      "('k=8', KMeans())\n",
      "\n",
      "('k=3', KMeans(n_clusters=3))\n",
      "\n",
      "('k=3(r)', KMeans(init='random', n_clusters=3, n_init=1))\n"
     ]
    }
   ],
   "source": [
    "estimators = [('k=8', cluster.KMeans(n_clusters=8)),\n",
    "              ('k=3', cluster.KMeans(n_clusters=3)),\n",
    "              ('k=3(r)', cluster.KMeans(n_clusters=3, n_init=1, init='random'))] # random init\n",
    "\n",
    "print(estimators[0]), print()\n",
    "print(estimators[1]), print()\n",
    "print(estimators[2])"
   ]
  },
  {
   "cell_type": "code",
   "execution_count": 16,
   "id": "7796f29b",
   "metadata": {},
   "outputs": [
    {
     "data": {
      "text/plain": [
       "<Figure size 700x700 with 0 Axes>"
      ]
     },
     "metadata": {},
     "output_type": "display_data"
    },
    {
     "data": {
      "text/plain": [
       "<Figure size 700x700 with 0 Axes>"
      ]
     },
     "metadata": {},
     "output_type": "display_data"
    },
    {
     "data": {
      "text/plain": [
       "<Figure size 700x700 with 0 Axes>"
      ]
     },
     "metadata": {},
     "output_type": "display_data"
    }
   ],
   "source": [
    "fignum = 1\n",
    "titles = ['8 clusters', '3 clusters', '3 clusters, bad initialization']\n",
    "\n",
    "for name, est in estimators: # estimators : ('k=8', cluster.KMeans(n_clusters=8))\n",
    "    fig = plt.figure(fignum, figsize=(7, 7))\n",
    "    ax = Axes3D(fig, elev=48, azim=134) # Set the elevation and azimuth of the axes. (축의 고도와 방위각)\n",
    "    est.fit(X)\n",
    "    labels = est.labels_\n",
    "\n",
    "    # X = iris.data\n",
    "    ax.scatter(X[:, 3], X[:, 0], X[:, 2], c=labels.astype(np.float_), edgecolor='w', s=100)\n",
    "\n",
    "    ax.w_xaxis.set_ticklabels([])\n",
    "    ax.w_yaxis.set_ticklabels([])\n",
    "    ax.w_zaxis.set_ticklabels([])\n",
    "    ax.set_xlabel('Petal width')\n",
    "    ax.set_ylabel('Sepal length')\n",
    "    ax.set_zlabel('Petal length')\n",
    "    ax.set_title(titles[fignum - 1])\n",
    "    ax.dist = 12 # 값이 커지면 전체 plot 이 작아짐\n",
    "    fignum = fignum + 1\n",
    "\n",
    "plt.show()"
   ]
  },
  {
   "cell_type": "code",
   "execution_count": null,
   "id": "e613daf1",
   "metadata": {},
   "outputs": [],
   "source": []
  }
 ],
 "metadata": {
  "kernelspec": {
   "display_name": "Python 3 (ipykernel)",
   "language": "python",
   "name": "python3"
  },
  "language_info": {
   "codemirror_mode": {
    "name": "ipython",
    "version": 3
   },
   "file_extension": ".py",
   "mimetype": "text/x-python",
   "name": "python",
   "nbconvert_exporter": "python",
   "pygments_lexer": "ipython3",
   "version": "3.8.17"
  }
 },
 "nbformat": 4,
 "nbformat_minor": 5
}
