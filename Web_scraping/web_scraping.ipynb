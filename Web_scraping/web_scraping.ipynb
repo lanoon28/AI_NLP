{
 "cells": [
  {
   "cell_type": "markdown",
   "id": "7c5bfe77",
   "metadata": {},
   "source": [
    "# HTML Tag 의미"
   ]
  },
  {
   "cell_type": "markdown",
   "id": "05766f71",
   "metadata": {},
   "source": [
    "Tag의 이름 => html / head / body / div / h2 / p / a / ul / ol / li / img\n"
   ]
  },
  {
   "cell_type": "markdown",
   "id": "be2a2515",
   "metadata": {},
   "source": [
    "Tag의 속성 => href / src / style / class / id\n"
   ]
  },
  {
   "cell_type": "markdown",
   "id": "d82e5dcd",
   "metadata": {},
   "source": [
    "# Web Scraping Process"
   ]
  },
  {
   "cell_type": "markdown",
   "id": "adffe41a",
   "metadata": {},
   "source": [
    "1. URL 분석 => 패턴 존재 여부, query 종류"
   ]
  },
  {
   "cell_type": "markdown",
   "id": "cdc6aa34",
   "metadata": {},
   "source": [
    "2. URL 구성 => str, 추후 자동화 고려"
   ]
  },
  {
   "cell_type": "markdown",
   "id": "3bfff7bd",
   "metadata": {},
   "source": [
    "3. HTTP Response 얻기 => urlopen(URL) or request.get(URL).content"
   ]
  },
  {
   "cell_type": "markdown",
   "id": "9d7a80df",
   "metadata": {},
   "source": [
    "4. HTML source 얻기 => BeautifulSoup(HTTP Response,'html.parser')"
   ]
  },
  {
   "cell_type": "markdown",
   "id": "7fd82dba",
   "metadata": {},
   "source": [
    "5. HTML Tag 추출 => .find('Tag 이름',{'Attr 이름', : 'Attr 값'})"
   ]
  },
  {
   "cell_type": "markdown",
   "id": "6b9bf357",
   "metadata": {},
   "source": [
    "6. 'Tag'로부터  텍스트 혹은 Attribute values 꺼내기 => Tag.get_text() or Tag.attrs\n"
   ]
  },
  {
   "cell_type": "markdown",
   "id": "9099cae2",
   "metadata": {},
   "source": [
    "# Scraping pratice"
   ]
  },
  {
   "cell_type": "code",
   "execution_count": 3,
   "id": "31a6b936",
   "metadata": {},
   "outputs": [],
   "source": [
    "from bs4 import BeautifulSoup\n",
    "from urllib.request import urlopen"
   ]
  },
  {
   "cell_type": "code",
   "execution_count": 6,
   "id": "a062776d",
   "metadata": {},
   "outputs": [],
   "source": [
    "word = 'happiness'\n",
    "url = 'https://alldic.daum.net/search.do?q=' + word # 호출할 url 주소\n",
    "\n",
    "web = urlopen(url) # url 웹변수 생성\n",
    "web_page = BeautifulSoup(web, 'html.parser')"
   ]
  },
  {
   "cell_type": "code",
   "execution_count": 9,
   "id": "c5b3d39a",
   "metadata": {},
   "outputs": [
    {
     "data": {
      "text/plain": [
       "[<p class=\"txt_norecent\" id=\"recentWordNoResult\" style=\"display:none\">최근검색어 내역이 없습니다.</p>,\n",
       " <p class=\"word_desc\">확인을 누르시면 새로 만든 단어장으로 자동 저장됩니다.</p>,\n",
       " <p class=\"word_make\">저장할 단어장이 없습니다.<br/>단어장을 만들어주세요.</p>,\n",
       " <p>위 내용에 대한 저작권 및 법적 책임은 자료 제공사 또는 글쓴이에 있으며 Kakao의 입장과 다를 수 있습니다.</p>,\n",
       " <p class=\"desc_report m_none\">사전에 없는 단어나 내용 오류, 오타를 신고해 주세요.</p>,\n",
       " <p class=\"desc_report\">등록해 주신 내용은 운영자의 검토를 거쳐, 서비스에 반영됩니다.</p>]"
      ]
     },
     "execution_count": 9,
     "metadata": {},
     "output_type": "execute_result"
    }
   ],
   "source": [
    "# web_page.find_all('p') # find => 하나만 찾을때"
   ]
  },
  {
   "cell_type": "code",
   "execution_count": 10,
   "id": "2c3e028d",
   "metadata": {},
   "outputs": [],
   "source": [
    "box1 = web_page.find('span',{'class' : 'txt_emph1'})"
   ]
  },
  {
   "cell_type": "code",
   "execution_count": 13,
   "id": "c033c910",
   "metadata": {},
   "outputs": [],
   "source": [
    "box2 = web_page.find_all('span',{'class' : 'txt_search'})"
   ]
  },
  {
   "cell_type": "code",
   "execution_count": 18,
   "id": "34c83606",
   "metadata": {},
   "outputs": [
    {
     "name": "stdout",
     "output_type": "stream",
     "text": [
      "happiness\n",
      "행복\n",
      "기쁨\n",
      "만족\n",
      "행운\n",
      "행복을 가져다 주다\n",
      "순간적인 행복\n",
      "행복을 추구하다\n",
      "state of well-being characterized by emotions ranging from contentment to intense joy\n",
      "the right to try to find happiness\n",
      "김아리 외 11인이 지은 책. 2019년에 출간되었다.\n",
      "해피니스. 행복\n"
     ]
    }
   ],
   "source": [
    "print(box1.get_text())\n",
    "\n",
    "for defintion in box2:\n",
    "    print(defintion.get_text()) # get_text를 통해 텍스트 추출"
   ]
  },
  {
   "cell_type": "code",
   "execution_count": 27,
   "id": "6bb60eb1",
   "metadata": {},
   "outputs": [
    {
     "data": {
      "text/plain": [
       "'‘미스테리오’의 계략으로 세상에 정체가 탄로난 스파이더맨 ‘피터 파커’는 하루 아침에 평범한 일상을 잃게 된다. 문제를 해결하기 위해 ‘닥터 스트레인지’를 찾아가 도움을 청하지만 뜻하지 않게 멀티버스가 열리면서 각기 다른 차원의 불청객들이 나타난다. ‘닥터 옥토퍼스’를 비롯해 스파이더맨에게 깊은 원한을 가진 숙적들의 강력한 공격에 ‘피터 파커’는 사상 최악의 위기를 맞게 되는데…'"
      ]
     },
     "execution_count": 27,
     "metadata": {},
     "output_type": "execute_result"
    }
   ],
   "source": [
    "url = 'https://movie.naver.com/movie/bi/mi/basic.naver?code=208077'\n",
    "web = urlopen(url)\n",
    "web_page = BeautifulSoup(web, 'html.parser')\n",
    "\n",
    "title = web_page.find('span', {'class':'area_text_title'}).find('strong').get_text()\n",
    "summary = web_page.find('span', {'class': 'desc _text'}).get_text()"
   ]
  },
  {
   "cell_type": "code",
   "execution_count": 35,
   "id": "c0d658a1",
   "metadata": {},
   "outputs": [
    {
     "data": {
      "text/plain": [
       "['톰 홀랜드', '젠데이아 콜먼', '베네딕트 컴버배치', '존 파브로', '제이콥 배덜런', '마리사 토메이', '알프리드 몰리나']"
      ]
     },
     "execution_count": 35,
     "metadata": {},
     "output_type": "execute_result"
    }
   ],
   "source": [
    "from urllib import parse # URL 중 한글 텍스트 처리를 위한 함수 \n",
    "\n",
    "url = \"https://search.naver.com/search.naver?query=\" + parse.quote(\"스파이더맨: 노 웨이 홈 출연진\") \n",
    "web = urlopen(url)\n",
    "web_page = BeautifulSoup(web, 'html.parser')\n",
    "\n",
    "web_page.find_all('div', {'class':'title_box'})\n",
    "director = web_page.find('div', {'class': 'title_box'}).find('strong').get_text()\n",
    "actor_list = web_page.find_all('div', {'class': 'title_box'})[1:]\n",
    "actor_name = []\n",
    "\n",
    "# 첫번쨰 div 태그를 제외한 나머지 div 태그들로부터 strong 태그를 꺼낸다.\n",
    "for actor in actor_list:\n",
    "    actor_name.append(actor.find('strong').get_text())"
   ]
  },
  {
   "cell_type": "code",
   "execution_count": null,
   "id": "91e331c5",
   "metadata": {},
   "outputs": [],
   "source": [
    "url = 'https://www.seattletimes.com/business/real-estate/zillows-zestimate-overvalued-a-washington-home-by-700-percent-in-a-case-of-algorithms-gone-wrong/'\n",
    "\n",
    "web = urlopen(url)\n",
    "web_page = BeautifulSoup(web, 'html.parser')\n",
    "\n",
    "with open('seattletimes.txt','w', encoding = 'utf-8') as f:\n",
    "    \n",
    "    times = source.find('div',{'id': 'article-content'})\n",
    "    article = times.find_all('p')\n",
    "    \n",
    "    for content in article:\n",
    "        print(content.get_text())\n",
    "        f.write(content.get_text() + '\\n')"
   ]
  }
 ],
 "metadata": {
  "kernelspec": {
   "display_name": "Python 3 (ipykernel)",
   "language": "python",
   "name": "python3"
  },
  "language_info": {
   "codemirror_mode": {
    "name": "ipython",
    "version": 3
   },
   "file_extension": ".py",
   "mimetype": "text/x-python",
   "name": "python",
   "nbconvert_exporter": "python",
   "pygments_lexer": "ipython3",
   "version": "3.8.17"
  }
 },
 "nbformat": 4,
 "nbformat_minor": 5
}
