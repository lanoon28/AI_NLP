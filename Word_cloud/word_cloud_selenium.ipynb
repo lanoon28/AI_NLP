{
 "cells": [
  {
   "cell_type": "code",
   "execution_count": 5,
   "id": "745289bb",
   "metadata": {},
   "outputs": [],
   "source": [
    "from webdriver_manager.chrome import ChromeDriverManager\n",
    "from selenium.webdriver.chrome.service import Service\n",
    "from selenium import webdriver\n",
    "from selenium.webdriver.common.by import By\n",
    "from selenium.webdriver.common.keys import Keys\n",
    "from bs4 import BeautifulSoup \n",
    "import time\n",
    "import pandas as pd\n",
    "import warnings\n",
    "#불필요한 경고 메세지 끔\n",
    "warnings.filterwarnings('ignore')"
   ]
  },
  {
   "cell_type": "code",
   "execution_count": 3,
   "id": "0a99cdf4",
   "metadata": {},
   "outputs": [
    {
     "data": {
      "text/html": [
       "<div>\n",
       "<style scoped>\n",
       "    .dataframe tbody tr th:only-of-type {\n",
       "        vertical-align: middle;\n",
       "    }\n",
       "\n",
       "    .dataframe tbody tr th {\n",
       "        vertical-align: top;\n",
       "    }\n",
       "\n",
       "    .dataframe thead th {\n",
       "        text-align: right;\n",
       "    }\n",
       "</style>\n",
       "<table border=\"1\" class=\"dataframe\">\n",
       "  <thead>\n",
       "    <tr style=\"text-align: right;\">\n",
       "      <th></th>\n",
       "      <th>Title</th>\n",
       "      <th>Date</th>\n",
       "      <th>Article</th>\n",
       "      <th>URL</th>\n",
       "      <th>PressCompany</th>\n",
       "    </tr>\n",
       "  </thead>\n",
       "  <tbody>\n",
       "    <tr>\n",
       "      <th>0</th>\n",
       "      <td>인천테크노파크, 중소기업 빅데이터 지원사업 '우수' 등급</td>\n",
       "      <td>2022.02.02. 오전 10:09</td>\n",
       "      <td>[인천=뉴시스] 이루비 기자 =  인천테크노파크 로고. (이미지=인천테크노파크 제공...</td>\n",
       "      <td>https://news.naver.com/main/read.naver?mode=LS...</td>\n",
       "      <td>뉴시스</td>\n",
       "    </tr>\n",
       "    <tr>\n",
       "      <th>1</th>\n",
       "      <td>식약처, 식·의약 데이터 분석 플랫폼 구축</td>\n",
       "      <td>2022.02.01. 오전 8:28</td>\n",
       "      <td>[KBS 청주]식품의약품안전처는 오는 4월부터 식·의약 데이터를 모은 분석 플랫폼을...</td>\n",
       "      <td>https://news.naver.com/main/read.naver?mode=LS...</td>\n",
       "      <td>KBS</td>\n",
       "    </tr>\n",
       "    <tr>\n",
       "      <th>2</th>\n",
       "      <td>2촌까지 가능한 유전자 분석기술 도입될까…\"실종자 가족 희망\"</td>\n",
       "      <td>2022.02.01. 오전 7:16</td>\n",
       "      <td>유전자[게티이미지뱅크 제공]    (서울=연합뉴스) 이정현 기자 = 실종자 확인 시...</td>\n",
       "      <td>https://news.naver.com/main/read.naver?mode=LS...</td>\n",
       "      <td>연합뉴스</td>\n",
       "    </tr>\n",
       "    <tr>\n",
       "      <th>3</th>\n",
       "      <td>길영준 휴이노 대표 \"2월 원격 모니터링 시장 첫발…최대 규모 임상 데이터 확보 목표\"</td>\n",
       "      <td>2022.02.01. 오전 10:01</td>\n",
       "      <td>이달부터 심전도 장기검사 보험 신설휴이노 최대 4000명 규모 임상 계획홀터 검사 ...</td>\n",
       "      <td>https://news.naver.com/main/read.naver?mode=LS...</td>\n",
       "      <td>서울경제</td>\n",
       "    </tr>\n",
       "    <tr>\n",
       "      <th>4</th>\n",
       "      <td>“빅데이터 잘 쓰면 매출 2배도 가능해요”</td>\n",
       "      <td>2022.01.28. 오전 11:18</td>\n",
       "      <td>KT, 소상공인 빅데이터 성공 사례 공유상권분석 플랫폼 ‘잘나가게’ 활용법 오픈KT...</td>\n",
       "      <td>https://news.naver.com/main/read.naver?mode=LS...</td>\n",
       "      <td>헤럴드경제</td>\n",
       "    </tr>\n",
       "  </tbody>\n",
       "</table>\n",
       "</div>"
      ],
      "text/plain": [
       "                                              Title                  Date  \\\n",
       "0                   인천테크노파크, 중소기업 빅데이터 지원사업 '우수' 등급  2022.02.02. 오전 10:09   \n",
       "1                           식약처, 식·의약 데이터 분석 플랫폼 구축   2022.02.01. 오전 8:28   \n",
       "2                2촌까지 가능한 유전자 분석기술 도입될까…\"실종자 가족 희망\"   2022.02.01. 오전 7:16   \n",
       "3  길영준 휴이노 대표 \"2월 원격 모니터링 시장 첫발…최대 규모 임상 데이터 확보 목표\"  2022.02.01. 오전 10:01   \n",
       "4                           “빅데이터 잘 쓰면 매출 2배도 가능해요”  2022.01.28. 오전 11:18   \n",
       "\n",
       "                                             Article  \\\n",
       "0  [인천=뉴시스] 이루비 기자 =  인천테크노파크 로고. (이미지=인천테크노파크 제공...   \n",
       "1  [KBS 청주]식품의약품안전처는 오는 4월부터 식·의약 데이터를 모은 분석 플랫폼을...   \n",
       "2  유전자[게티이미지뱅크 제공]    (서울=연합뉴스) 이정현 기자 = 실종자 확인 시...   \n",
       "3  이달부터 심전도 장기검사 보험 신설휴이노 최대 4000명 규모 임상 계획홀터 검사 ...   \n",
       "4  KT, 소상공인 빅데이터 성공 사례 공유상권분석 플랫폼 ‘잘나가게’ 활용법 오픈KT...   \n",
       "\n",
       "                                                 URL PressCompany  \n",
       "0  https://news.naver.com/main/read.naver?mode=LS...          뉴시스  \n",
       "1  https://news.naver.com/main/read.naver?mode=LS...          KBS  \n",
       "2  https://news.naver.com/main/read.naver?mode=LS...         연합뉴스  \n",
       "3  https://news.naver.com/main/read.naver?mode=LS...         서울경제  \n",
       "4  https://news.naver.com/main/read.naver?mode=LS...        헤럴드경제  "
      ]
     },
     "execution_count": 3,
     "metadata": {},
     "output_type": "execute_result"
    }
   ],
   "source": [
    "df = pd.read_excel('result_220202_1834.xlsx')\n",
    "df.head()"
   ]
  },
  {
   "cell_type": "code",
   "execution_count": 9,
   "id": "c37d8a0b",
   "metadata": {},
   "outputs": [
    {
     "ename": "TypeError",
     "evalue": "__init__() got an unexpected keyword argument 'service'",
     "output_type": "error",
     "traceback": [
      "\u001b[0;31m---------------------------------------------------------------------------\u001b[0m",
      "\u001b[0;31mTypeError\u001b[0m                                 Traceback (most recent call last)",
      "Cell \u001b[0;32mIn[9], line 5\u001b[0m\n\u001b[1;32m      2\u001b[0m service \u001b[38;5;241m=\u001b[39m Service(executable_path\u001b[38;5;241m=\u001b[39mChromeDriverManager()\u001b[38;5;241m.\u001b[39minstall()) \n\u001b[1;32m      4\u001b[0m \u001b[38;5;66;03m# 세팅된 크롬드라이버를 연결해 가상브라우저 실행\u001b[39;00m\n\u001b[0;32m----> 5\u001b[0m driver \u001b[38;5;241m=\u001b[39m \u001b[43mwebdriver\u001b[49m\u001b[38;5;241;43m.\u001b[39;49m\u001b[43mChrome\u001b[49m\u001b[43m(\u001b[49m\u001b[43mservice\u001b[49m\u001b[43m \u001b[49m\u001b[38;5;241;43m=\u001b[39;49m\u001b[43m \u001b[49m\u001b[43mservice\u001b[49m\u001b[43m)\u001b[49m\n",
      "\u001b[0;31mTypeError\u001b[0m: __init__() got an unexpected keyword argument 'service'"
     ]
    }
   ],
   "source": [
    "# 자동으로 크롬드라이버를 다운로드 후 세팅\n",
    "service = Service(executable_path=ChromeDriverManager().install()) \n",
    "\n",
    "# 세팅된 크롬드라이버를 연결해 가상브라우저 실행\n",
    "driver = webdriver.Chrome(service = service)"
   ]
  },
  {
   "cell_type": "code",
   "execution_count": null,
   "id": "bc98768c",
   "metadata": {},
   "outputs": [],
   "source": []
  }
 ],
 "metadata": {
  "kernelspec": {
   "display_name": "Python 3 (ipykernel)",
   "language": "python",
   "name": "python3"
  },
  "language_info": {
   "codemirror_mode": {
    "name": "ipython",
    "version": 3
   },
   "file_extension": ".py",
   "mimetype": "text/x-python",
   "name": "python",
   "nbconvert_exporter": "python",
   "pygments_lexer": "ipython3",
   "version": "3.8.17"
  }
 },
 "nbformat": 4,
 "nbformat_minor": 5
}
